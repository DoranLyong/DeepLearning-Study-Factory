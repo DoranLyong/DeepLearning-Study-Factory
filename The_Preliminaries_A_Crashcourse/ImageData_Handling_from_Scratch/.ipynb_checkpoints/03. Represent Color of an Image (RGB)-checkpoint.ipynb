{
 "cells": [
  {
   "cell_type": "markdown",
   "metadata": {},
   "source": [
    "[![Open In Colab](https://colab.research.google.com/assets/colab-badge.svg)](https://colab.research.google.com/github/DoranLyong/DeepLearning_model_factory/blob/master/The_Preliminaries_A_Crashcourse/ImageData_Handling_from_Scratch/03.%20Represent%20Color%20of%20an%20Image%20(RGB).ipynb)"
   ]
  },
  {
   "cell_type": "code",
   "execution_count": 1,
   "metadata": {},
   "outputs": [],
   "source": [
    "import numpy as np                  \n",
    "import matplotlib.pyplot as plt     \n",
    "from PIL import Image            # 이미지 파일과 데이터 처리를 위한 모듈"
   ]
  },
  {
   "cell_type": "code",
   "execution_count": 2,
   "metadata": {},
   "outputs": [],
   "source": [
    "im = Image.open( \"rgb_circle.bmp\" ) # image file 읽어오기 "
   ]
  },
  {
   "cell_type": "code",
   "execution_count": 4,
   "metadata": {},
   "outputs": [
    {
     "name": "stdout",
     "output_type": "stream",
     "text": [
      "[219 230   3]\n"
     ]
    }
   ],
   "source": [
    "pix = np.array(im)                   # image data를 numpy array로 구성하기\n",
    "pixSize = np.array(pix.shape)\n",
    "print(pixSize)"
   ]
  },
  {
   "cell_type": "code",
   "execution_count": 5,
   "metadata": {},
   "outputs": [],
   "source": [
    "# pix array에서 각각 R(0), G(1), B(1) 성분 값 외에는 0으로 만들어서\n",
    "# 원본 이미지에서 R, G, B에 해당하는 배열 만들기 \n",
    "pix_R = pix.copy()\n",
    "pix_R[:, :, (1,2)] = 0\n",
    "pix_G = pix.copy()\n",
    "pix_G[:, :, (0,2)] = 0\n",
    "pix_B = pix.copy()\n",
    "pix_B[:, :, (0,1)] = 0"
   ]
  },
  {
   "cell_type": "code",
   "execution_count": 6,
   "metadata": {},
   "outputs": [
    {
     "data": {
      "image/png": "[encoded data removed]",
      "text/plain": [
       "<Figure size 432x288 with 4 Axes>"
      ]
     },
     "metadata": {
      "needs_background": "light"
     },
     "output_type": "display_data"
    }
   ],
   "source": [
    "# 원본 이미지인 pix 행렬을 이미지 데이터로 출력\n",
    "plt.subplot(141)\n",
    "plt.imshow(pix)\n",
    "plt.axis(\"off\")\n",
    "plt.title(\"RGB\")\n",
    "\n",
    "# pix 행렬에서 이미지 데이터의 R 채널을 출력\n",
    "plt.subplot(142)\n",
    "plt.imshow(pix_R)\n",
    "plt.axis(\"off\")\n",
    "plt.title(\"R(Red)\")\n",
    "\n",
    "# pix 행렬에서 이미지 데이터의 G 채널을 출력\n",
    "plt.subplot(143)\n",
    "plt.imshow(pix_G)\n",
    "plt.axis(\"off\")\n",
    "plt.title(\"G(Green)\")\n",
    "\n",
    "# pix 행렬에서 이미지 데이터의 B 채널을 출력\n",
    "plt.subplot(144)\n",
    "plt.imshow(pix_B)\n",
    "plt.axis(\"off\")\n",
    "plt.title(\"B(Blue)\")\n",
    "plt.show()\n",
    " "
   ]
  },
  {
   "cell_type": "code",
   "execution_count": null,
   "metadata": {},
   "outputs": [],
   "source": []
  }
 ],
 "metadata": {
  "kernelspec": {
   "display_name": "Python 3",
   "language": "python",
   "name": "python3"
  },
  "language_info": {
   "codemirror_mode": {
    "name": "ipython",
    "version": 3
   },
   "file_extension": ".py",
   "mimetype": "text/x-python",
   "name": "python",
   "nbconvert_exporter": "python",
   "pygments_lexer": "ipython3",
   "version": "3.8.3"
  }
 },
 "nbformat": 4,
 "nbformat_minor": 4
}
