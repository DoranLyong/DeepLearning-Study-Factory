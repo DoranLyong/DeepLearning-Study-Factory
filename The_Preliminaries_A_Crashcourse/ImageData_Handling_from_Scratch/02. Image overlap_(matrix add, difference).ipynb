{
 "cells": [
  {
   "cell_type": "code",
   "execution_count": null,
   "metadata": {},
   "outputs": [],
   "source": [
    "import turtle\n",
    "\n",
    "import numpy as np"
   ]
  },
  {
   "cell_type": "code",
   "execution_count": null,
   "metadata": {},
   "outputs": [],
   "source": [
    "pixelSize = 10                          # pixel 사이즈의 반지름\n",
    "\n",
    "def putPixel(x, y, pSize, pCol):        # 메인 소스 코드에서 호출하는 Pixel 채우기 함수\n",
    "    turtle.penup()                      # 좌표 이동을 위해 펜기능을 비활성화\n",
    "    turtle.goto(x*pSize, (-1)*y*pSize)   # 주어진 좌표로 이동\n",
    "    turtle.pendown()                    # 펜기능을 다시 활성화\n",
    "    turtle.begin_fill()                 # 다각형을 그릴 때 내부를 채우기\n",
    "    turtle.fillcolor(pCol)              # 다각형의 채움색 설정하기\n",
    "    turtle.setheading(45)               # 시작각도\n",
    "    turtle.circle(pSize/2, steps = 4)   # 정사각형 픽셀 그리기\n",
    "    turtle.end_fill()                   # 채우기 끝"
   ]
  },
  {
   "cell_type": "code",
   "execution_count": null,
   "metadata": {},
   "outputs": [],
   "source": [
    "faceImg = np.array(                                      # face figure  \n",
    "    [[0, 0, 0, 0, 0, 0, 0, 0, 0, 0, 0, 0, 0, 0, 0, 0],   \n",
    "     [0, 0, 0, 0, 0, 0, 0, 0, 0, 0, 0, 0, 0, 0, 0, 0],\n",
    "     [0, 0, 0, 0, 0, 0, 1, 1, 1, 1, 0, 0, 0, 0, 0, 0],\n",
    "     [0, 0, 0, 0, 1, 1, 1, 1, 1, 1, 1, 1, 0, 0, 0, 0],\n",
    "     [0, 0, 0, 1, 1, 1, 1, 1, 1, 1, 1, 1, 1, 0, 0, 0],\n",
    "     [0, 0, 0, 1, 1, 1, 1, 1, 1, 1, 1, 1, 1, 0, 0, 0],\n",
    "     [0, 0, 1, 1, 1, 1, 1, 1, 1, 1, 1, 1, 1, 1, 0, 0],\n",
    "     [0, 0, 1, 1, 1, 1, 1, 1, 1, 1, 1, 1, 1, 1, 0, 0],\n",
    "     [0, 0, 1, 1, 1, 1, 1, 1, 1, 1, 1, 1, 1, 1, 0, 0],\n",
    "     [0, 0, 1, 1, 1, 1, 1, 1, 1, 1, 1, 1, 1, 1, 0, 0],\n",
    "     [0, 0, 1, 1, 1, 1, 1, 1, 1, 1, 1, 1, 1, 1, 0, 0],\n",
    "     [0, 0, 0, 1, 1, 1, 1, 1, 1, 1, 1, 1, 1, 0, 0, 0],\n",
    "     [0, 0, 0, 0, 1, 1, 1, 1, 1, 1, 1, 1, 0, 0, 0, 0],\n",
    "     [0, 0, 0, 0, 0, 1, 1, 1, 1, 1, 1, 0, 0, 0, 0, 0],\n",
    "     [0, 0, 0, 0, 0, 0, 0, 1, 1, 0, 0, 0, 0, 0, 0, 0],\n",
    "     [0, 0, 0, 0, 0, 0, 0, 0, 0, 0, 0, 0, 0, 0, 0, 0]])\n",
    "\n",
    "smileImg = np.array(                                     # smile figure \n",
    "    [[0, 0, 0, 0, 0, 0, 0, 0, 0, 0, 0, 0, 0, 0, 0, 0],\n",
    "     [0, 0, 0, 0, 0, 0, 0, 0, 0, 0, 0, 0, 0, 0, 0, 0],\n",
    "     [0, 0, 0, 0, 0, 0, 0, 0, 0, 0, 0, 0, 0, 0, 0, 0],\n",
    "     [0, 0, 0, 0, 0, 0, 0, 0, 0, 0, 0, 0, 0, 0, 0, 0],\n",
    "     [0, 0, 0, 0, 0, 0, 0, 0, 0, 0, 0, 0, 0, 0, 0, 0],\n",
    "     [0, 0, 0, 0, 0, 2, 2, 0, 0, 2, 2, 0, 0, 0, 0, 0],\n",
    "     [0, 0, 0, 0, 2, 0, 2, 0, 2, 0, 2, 0, 0, 0, 0, 0],\n",
    "     [0, 0, 0, 0, 2, 2, 2, 0, 2, 2, 2, 0, 0, 0, 0, 0],\n",
    "     [0, 0, 0, 0, 0, 0, 0, 0, 0, 0, 0, 0, 0, 0, 0, 0],\n",
    "     [0, 0, 0, 0, 2, 0, 0, 0, 0, 0, 0, 2, 0, 0, 0, 0],\n",
    "     [0, 0, 0, 0, 2, 2, 0, 0, 0, 0, 2, 2, 0, 0, 0, 0],\n",
    "     [0, 0, 0, 0, 0, 2, 2, 2, 2, 2, 2, 0, 0, 0, 0, 0],\n",
    "     [0, 0, 0, 0, 0, 0, 2, 2, 2, 2, 0, 0, 0, 0, 0, 0],\n",
    "     [0, 0, 0, 0, 0, 0, 0, 0, 0, 0, 0, 0, 0, 0, 0, 0],\n",
    "     [0, 0, 0, 0, 0, 0, 0, 0, 0, 0, 0, 0, 0, 0, 0, 0],\n",
    "     [0, 0, 0, 0, 0, 0, 0, 0, 0, 0, 0, 0, 0, 0, 0, 0]])"
   ]
  },
  {
   "cell_type": "code",
   "execution_count": null,
   "metadata": {},
   "outputs": [],
   "source": [
    "for j in range (0, 16) :                                 # (a) faceImage 이미지 출력\n",
    "    for i in range (0, 16) :\n",
    "        if (faceImg[j][i] > 0):\n",
    "            putPixel(i,j, pixelSize, \"orange\")           # 각 배열 요소의 값이 0보다 크면 오렌지색으로 출력\n",
    "        else:\n",
    "            putPixel(i,j, pixelSize, \"white\")            # 각 배열 요소의 값이 0이면 흰색으로 출력\n",
    "            \n",
    "\n",
    "for j in range (0, 16) :                                 # smileImage 출력\n",
    "    for i in range (0, 16) :\n",
    "        if (smileImg[j][i] > 0):\n",
    "            putPixel(i+20,j, pixelSize, \"red\")           # 각 배열 요소의 값이 1보다 크면 빨간색으로 출력\n",
    "        else:\n",
    "            putPixel(i+20,j, pixelSize, \"white\")         # 각 배열 요소의 값이 1보다 작으면 흰색으로 출력            \n"
   ]
  },
  {
   "cell_type": "markdown",
   "metadata": {},
   "source": [
    "***\n",
    "### Add Image \n",
    "* faceImg + smileImg\n",
    "* matrix add "
   ]
  },
  {
   "cell_type": "code",
   "execution_count": null,
   "metadata": {},
   "outputs": [],
   "source": [
    "addImage = np.array(faceImg + smileImg)              # faceImg 행렬과 smailImage 행렬의 합\n",
    "print(addImage)                                      # addImg의 성분 출력하기\n",
    "\n",
    "# 원래 이미지 2개의 합으로 새로 생성된 이미지 데이터 행렬 addImage를 출력하기\n",
    "for j in range (0, 16) : \n",
    "    for i in range (0, 16) :\n",
    "        if (addImage[j][i] > 1) :                     # addImage 행렬의 성분값이 2 이상이면 빨간색으로 출력하기\n",
    "            putPixel(i,j,pixelSize, \"red\")\n",
    "        elif (addImage[j][i] > 0) :                   # addImage 행렬의 성분값이 1이면 오렌지색으로 출력하기\n",
    "            putPixel(i,j,pixelSize, \"orange\")        \n",
    "        else :                                        # ddImage 행렬의 성분값이 0 이하이면 흰색으로 출력하기\n",
    "            putPixel(i,j,pixelSize, \"white\")         \n"
   ]
  },
  {
   "cell_type": "markdown",
   "metadata": {},
   "source": [
    "***\n",
    "### Difference Image \n",
    "* faceImg - smileImg\n",
    "* matrix difference"
   ]
  },
  {
   "cell_type": "code",
   "execution_count": null,
   "metadata": {},
   "outputs": [],
   "source": [
    "diffImage = np.array(faceImg - smileImg)               # faceImg 행렬과 smailImage 행렬의 차\n",
    "print(diffImage)                                       # diffImg의 성분 출력하기\n",
    "\n",
    "\n",
    "for j in range (0, 16) :                              # 원래 이미지 2개의 차로 새로 생성된 이미지 데이터 행렬              \n",
    "    for i in range (0, 16) :                          # diffImage를 출력하기\n",
    "        if (diffImage[j][i] > 0):                     \n",
    "            putPixel(i+20,j,pixelSize, \"orange\")\n",
    "        else:\n",
    "            putPixel(i+20,j,pixelSize, \"white\") "
   ]
  },
  {
   "cell_type": "code",
   "execution_count": null,
   "metadata": {},
   "outputs": [],
   "source": []
  }
 ],
 "metadata": {
  "kernelspec": {
   "display_name": "Python [conda env:pytorch_env] *",
   "language": "python",
   "name": "conda-env-pytorch_env-py"
  },
  "language_info": {
   "codemirror_mode": {
    "name": "ipython",
    "version": 3
   },
   "file_extension": ".py",
   "mimetype": "text/x-python",
   "name": "python",
   "nbconvert_exporter": "python",
   "pygments_lexer": "ipython3",
   "version": "3.8.5"
  }
 },
 "nbformat": 4,
 "nbformat_minor": 4
}
